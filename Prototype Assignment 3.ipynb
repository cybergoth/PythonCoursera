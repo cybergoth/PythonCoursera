{
 "cells": [
  {
   "cell_type": "code",
   "execution_count": null,
   "metadata": {
    "collapsed": true
   },
   "outputs": [],
   "source": [
    "def is_valid_word(wordlist, word):\n",
    "    \"\"\" (list of str, str) -> bool\n",
    "\n",
    "    Return True if and only if word is an element of wordlist.\n",
    "\n",
    "    >>> is_valid_word(['ANT', 'BOX', 'SOB', 'TO'], 'TO')\n",
    "    True\n",
    "    \"\"\"\n",
    "\n",
    "    if word in wordlist:\n",
    "        return True\n",
    "    else:\n",
    "        return False"
   ]
  },
  {
   "cell_type": "code",
   "execution_count": 4,
   "metadata": {},
   "outputs": [
    {
     "data": {
      "text/plain": [
       "False"
      ]
     },
     "execution_count": 4,
     "metadata": {},
     "output_type": "execute_result"
    }
   ],
   "source": [
    "is_valid_word(['ANT', 'BOX', 'SOB', 'TO'], 'TOF')"
   ]
  },
  {
   "cell_type": "code",
   "execution_count": 5,
   "metadata": {
    "collapsed": true
   },
   "outputs": [],
   "source": [
    "def make_str_from_row(board, row_index):\n",
    "    \"\"\" (list of list of str, int) -> str\n",
    "\n",
    "    Return the characters from the row of the board with index row_index\n",
    "    as a single string.\n",
    "\n",
    "    >>> make_str_from_row([['A', 'N', 'T', 'T'], ['X', 'S', 'O', 'B']], 0)\n",
    "    'ANTT'\n",
    "    \"\"\"\n",
    "    \n",
    "    result = ''\n",
    "    for i in board[row_index]:\n",
    "        result = result + i\n",
    "    return result"
   ]
  },
  {
   "cell_type": "code",
   "execution_count": 6,
   "metadata": {},
   "outputs": [
    {
     "data": {
      "text/plain": [
       "'ANTT'"
      ]
     },
     "execution_count": 6,
     "metadata": {},
     "output_type": "execute_result"
    }
   ],
   "source": [
    "make_str_from_row([['A', 'N', 'T', 'T'], ['X', 'S', 'O', 'B']], 0)"
   ]
  },
  {
   "cell_type": "code",
   "execution_count": 68,
   "metadata": {
    "collapsed": true
   },
   "outputs": [],
   "source": [
    "def make_str_from_column(board, column_index):\n",
    "    \"\"\" (list of list of str, int) -> str\n",
    "\n",
    "    Return the characters from the column of the board with index column_index\n",
    "    as a single string.\n",
    "\n",
    "    >>> make_str_from_column([['A', 'N', 'T', 'T'], ['X', 'S', 'O', 'B']], 1)\n",
    "    'NS'\n",
    "    \"\"\"\n",
    "    \n",
    "    result= ''\n",
    "    for row in board:\n",
    "        result = result + row[column_index] \n",
    "        \n",
    "    return result"
   ]
  },
  {
   "cell_type": "code",
   "execution_count": 69,
   "metadata": {},
   "outputs": [
    {
     "data": {
      "text/plain": [
       "'NS'"
      ]
     },
     "execution_count": 69,
     "metadata": {},
     "output_type": "execute_result"
    }
   ],
   "source": [
    "make_str_from_column([['A', 'N', 'T', 'T'], ['X', 'S', 'O', 'B']], 1)"
   ]
  },
  {
   "cell_type": "code",
   "execution_count": 70,
   "metadata": {
    "collapsed": true
   },
   "outputs": [],
   "source": [
    "def board_contains_word_in_row(board, word):\n",
    "    \"\"\" (list of list of str, str) -> bool\n",
    "\n",
    "    Return True if and only if one or more of the rows of the board contains\n",
    "    word.\n",
    "\n",
    "    Precondition: board has at least one row and one column, and word is a\n",
    "    valid word.\n",
    "\n",
    "    >>> board_contains_word_in_row([['A', 'N', 'T', 'T'], ['X', 'S', 'O', 'B']], 'SOB')\n",
    "    True\n",
    "    \"\"\"\n",
    "\n",
    "    for row_index in range(len(board)):\n",
    "        if word in make_str_from_row(board, row_index):\n",
    "            return True\n",
    "\n",
    "    return False"
   ]
  },
  {
   "cell_type": "code",
   "execution_count": 121,
   "metadata": {
    "collapsed": true
   },
   "outputs": [],
   "source": [
    "def board_contains_word_in_column(board, word):\n",
    "    \"\"\" (list of list of str, str) -> bool\n",
    "\n",
    "    Return True if and only if one or more of the columns of the board\n",
    "    contains word.\n",
    "\n",
    "    Precondition: board has at least one row and one column, and word is a\n",
    "    valid word.\n",
    "\n",
    "    >>> board_contains_word_in_column([['A', 'N', 'T', 'T'], ['X', 'S', 'O', 'B']], 'NO')\n",
    "    False\n",
    "    \"\"\"\n",
    "    \n",
    "\n",
    "    for lst in board:\n",
    "        for column_index in range(len(lst)):\n",
    "            if word in make_str_from_column(board, column_index):\n",
    "                return True\n",
    "   \n",
    "    return False\n",
    "       "
   ]
  },
  {
   "cell_type": "code",
   "execution_count": 123,
   "metadata": {},
   "outputs": [
    {
     "data": {
      "text/plain": [
       "True"
      ]
     },
     "execution_count": 123,
     "metadata": {},
     "output_type": "execute_result"
    }
   ],
   "source": [
    "board_contains_word_in_column([['A', 'N', 'T', 'T'], ['X', 'S', 'O', 'B']], 'AX')"
   ]
  },
  {
   "cell_type": "code",
   "execution_count": 125,
   "metadata": {
    "collapsed": true
   },
   "outputs": [],
   "source": [
    "def board_contains_word(board, word):\n",
    "    \"\"\" (list of list of str, str) -> bool\n",
    "\n",
    "    Return True if and only if word appears in board.\n",
    "\n",
    "    Precondition: board has at least one row and one column.\n",
    "\n",
    "    >>> board_contains_word([['A', 'N', 'T', 'T'], ['X', 'S', 'O', 'B']], 'ANT')\n",
    "    True\n",
    "    \"\"\"\n",
    "    \n",
    "    if board_contains_word_in_column(board, word) == True or board_contains_word_in_row(board, word) == True:\n",
    "        return True\n",
    "    "
   ]
  },
  {
   "cell_type": "code",
   "execution_count": 129,
   "metadata": {},
   "outputs": [
    {
     "data": {
      "text/plain": [
       "True"
      ]
     },
     "execution_count": 129,
     "metadata": {},
     "output_type": "execute_result"
    }
   ],
   "source": [
    "board_contains_word([['A', 'N', 'T', 'T'], ['X', 'S', 'O', 'B']], 'SOB')"
   ]
  },
  {
   "cell_type": "code",
   "execution_count": 149,
   "metadata": {
    "collapsed": true
   },
   "outputs": [],
   "source": [
    "def word_score(word):\n",
    "    \"\"\" (str) -> int\n",
    "\n",
    "    Return the point value the word earns.\n",
    "\n",
    "    Word length: < 3: 0 points\n",
    "                 3-6: 1 point per character for all characters in word\n",
    "                 7-9: 2 points per character for all characters in word\n",
    "                 10+: 3 points per character for all characters in word\n",
    "\n",
    "    >>> word_score('DRUDGERY')\n",
    "    16\n",
    "    \"\"\"\n",
    "\n",
    "    lw= len(word)\n",
    "    if lw > 9:\n",
    "        return 3 * lw\n",
    "    elif lw >= 7 and lw <= 9:\n",
    "        return 2 * lw\n",
    "    elif lw >= 3 and lw <= 6:\n",
    "        return lw\n",
    "    else:\n",
    "        return 0"
   ]
  },
  {
   "cell_type": "raw",
   "metadata": {},
   "source": []
  },
  {
   "cell_type": "code",
   "execution_count": 153,
   "metadata": {},
   "outputs": [
    {
     "data": {
      "text/plain": [
       "16"
      ]
     },
     "execution_count": 153,
     "metadata": {},
     "output_type": "execute_result"
    }
   ],
   "source": [
    "word_score('DRUDGERY')"
   ]
  },
  {
   "cell_type": "code",
   "execution_count": 154,
   "metadata": {
    "collapsed": true
   },
   "outputs": [],
   "source": [
    "def update_score(player_info, word):\n",
    "    \"\"\" ([str, int] list, str) -> NoneType\n",
    "\n",
    "    player_info is a list with the player's name and score. Update player_info\n",
    "    by adding the point value word earns to the player's score.\n",
    "\n",
    "    >>> update_score(['Jonathan', 4], 'ANT')\n",
    "    \"\"\"\n",
    "    \n",
    "    player_info[1] = player_info[1] + word_score(word)"
   ]
  },
  {
   "cell_type": "code",
   "execution_count": 155,
   "metadata": {
    "collapsed": true
   },
   "outputs": [],
   "source": [
    "def num_words_on_board(board, words):\n",
    "    \"\"\" (list of list of str, list of str) -> int\n",
    "\n",
    "    Return how many words appear on board.\n",
    "\n",
    "    >>> num_words_on_board([['A', 'N', 'T', 'T'], ['X', 'S', 'O', 'B']], ['ANT', 'BOX', 'SOB', 'TO'])\n",
    "    3\n",
    "    \"\"\"\n",
    "    \n",
    "    c = 0\n",
    "    \n",
    "    for word in words:\n",
    "        if board_contains_word(board, word):\n",
    "            c = c + 1\n",
    "    return c\n",
    "    "
   ]
  },
  {
   "cell_type": "code",
   "execution_count": 156,
   "metadata": {},
   "outputs": [
    {
     "data": {
      "text/plain": [
       "3"
      ]
     },
     "execution_count": 156,
     "metadata": {},
     "output_type": "execute_result"
    }
   ],
   "source": [
    "num_words_on_board([['A', 'N', 'T', 'T'], ['X', 'S', 'O', 'B']], ['ANT', 'BOX', 'SOB', 'TO'])"
   ]
  },
  {
   "cell_type": "code",
   "execution_count": 158,
   "metadata": {
    "collapsed": true
   },
   "outputs": [],
   "source": [
    "def read_words(words_file):\n",
    "    \"\"\" (file open for reading) -> list of str\n",
    "\n",
    "    Return a list of all words (with newlines removed) from open file\n",
    "    words_file.\n",
    "\n",
    "    Precondition: Each line of the file contains a word in uppercase characters\n",
    "    from the standard English alphabet.\n",
    "    \"\"\"\n",
    "    \n",
    "    words = []\n",
    "    for word in words_file:\n",
    "        words.append(word.rstrip('\\n'))\n",
    "\n",
    "    return words"
   ]
  },
  {
   "cell_type": "code",
   "execution_count": 159,
   "metadata": {
    "collapsed": true
   },
   "outputs": [],
   "source": [
    "def read_board(board_file):\n",
    "    \"\"\" (file open for reading) -> list of list of str\n",
    "\n",
    "    Return a board read from open file board_file. The board file will contain\n",
    "    one row of the board per line. Newlines are not included in the board.\n",
    "    \"\"\"\n",
    "    \n",
    "    board = []\n",
    "    for line in board_file:\n",
    "        row = []\n",
    "        for l in line.rstrip('\\n'):\n",
    "            row.append(l)\n",
    "        board.append(row)\n",
    "\n",
    "    return board"
   ]
  }
 ],
 "metadata": {
  "kernelspec": {
   "display_name": "Python 3",
   "language": "python",
   "name": "python3"
  },
  "language_info": {
   "codemirror_mode": {
    "name": "ipython",
    "version": 3
   },
   "file_extension": ".py",
   "mimetype": "text/x-python",
   "name": "python",
   "nbconvert_exporter": "python",
   "pygments_lexer": "ipython3",
   "version": "3.6.1"
  }
 },
 "nbformat": 4,
 "nbformat_minor": 2
}
